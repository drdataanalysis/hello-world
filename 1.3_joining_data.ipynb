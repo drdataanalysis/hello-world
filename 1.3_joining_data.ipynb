{
 "cells": [
  {
   "cell_type": "markdown",
   "metadata": {},
   "source": [
    "# Joining Data\n",
    "[Full Guide](https://www.analyticsvidhya.com/blog/2021/06/join-the-dataframes-like-sql-tables-in-python-using-pandas/)"
   ]
  },
  {
   "source": [
    "## Setting up data frames"
   ],
   "cell_type": "markdown",
   "metadata": {}
  },
  {
   "cell_type": "code",
   "execution_count": 2,
   "metadata": {},
   "outputs": [],
   "source": [
    "import pandas as pd\n",
    "# Country and its capitals\n",
    "capitals = pd.DataFrame({'Country' : ['Afghanistan','Argentina','Australia','Canada','China','France','India','Nepal','Russia','Spain'], 'ISO' : ['AF','AR','AU','CA','CN','FR','IN','NP','RU','ES'], 'Capital' : ['Kabul','Buenos_Aires','Canberra','Ottawa','Beijing','Paris','New_Delhi','Katmandu','Moscow','Madrid']}, columns=['Country', 'ISO', 'Capital'])\n",
    "\n",
    "# Country and its currencies\n",
    "currency = pd.DataFrame({'Country' : ['France','India','Nepal','Russia','Spain','Sri_Lanka','United_Kingdom','USA','Uzbekistan','Zimbabwe'], 'Currency' : ['Euro','Indian_Rupee','Nepalese_Rupee','Rouble','Euro','Rupee','Pound','US_Dollar','Sum_Coupons','Zimbabwe_Dollar'], 'Digraph' : ['FR','IN','NP','RU','ES','LK','GB','US','UZ','ZW']}, columns=['Country', 'Currency', 'Digraph'])"
   ]
  },
  {
   "cell_type": "code",
   "execution_count": 11,
   "metadata": {},
   "outputs": [
    {
     "output_type": "execute_result",
     "data": {
      "text/plain": [
       "       Country ISO       Capital\n",
       "0  Afghanistan  AF         Kabul\n",
       "1    Argentina  AR  Buenos_Aires\n",
       "2    Australia  AU      Canberra\n",
       "3       Canada  CA        Ottawa\n",
       "4        China  CN       Beijing\n",
       "5       France  FR         Paris\n",
       "6        India  IN     New_Delhi\n",
       "7        Nepal  NP      Katmandu\n",
       "8       Russia  RU        Moscow\n",
       "9        Spain  ES        Madrid"
      ],
      "text/html": "<div>\n<style scoped>\n    .dataframe tbody tr th:only-of-type {\n        vertical-align: middle;\n    }\n\n    .dataframe tbody tr th {\n        vertical-align: top;\n    }\n\n    .dataframe thead th {\n        text-align: right;\n    }\n</style>\n<table border=\"1\" class=\"dataframe\">\n  <thead>\n    <tr style=\"text-align: right;\">\n      <th></th>\n      <th>Country</th>\n      <th>ISO</th>\n      <th>Capital</th>\n    </tr>\n  </thead>\n  <tbody>\n    <tr>\n      <th>0</th>\n      <td>Afghanistan</td>\n      <td>AF</td>\n      <td>Kabul</td>\n    </tr>\n    <tr>\n      <th>1</th>\n      <td>Argentina</td>\n      <td>AR</td>\n      <td>Buenos_Aires</td>\n    </tr>\n    <tr>\n      <th>2</th>\n      <td>Australia</td>\n      <td>AU</td>\n      <td>Canberra</td>\n    </tr>\n    <tr>\n      <th>3</th>\n      <td>Canada</td>\n      <td>CA</td>\n      <td>Ottawa</td>\n    </tr>\n    <tr>\n      <th>4</th>\n      <td>China</td>\n      <td>CN</td>\n      <td>Beijing</td>\n    </tr>\n    <tr>\n      <th>5</th>\n      <td>France</td>\n      <td>FR</td>\n      <td>Paris</td>\n    </tr>\n    <tr>\n      <th>6</th>\n      <td>India</td>\n      <td>IN</td>\n      <td>New_Delhi</td>\n    </tr>\n    <tr>\n      <th>7</th>\n      <td>Nepal</td>\n      <td>NP</td>\n      <td>Katmandu</td>\n    </tr>\n    <tr>\n      <th>8</th>\n      <td>Russia</td>\n      <td>RU</td>\n      <td>Moscow</td>\n    </tr>\n    <tr>\n      <th>9</th>\n      <td>Spain</td>\n      <td>ES</td>\n      <td>Madrid</td>\n    </tr>\n  </tbody>\n</table>\n</div>"
     },
     "metadata": {},
     "execution_count": 11
    }
   ],
   "source": [
    "capitals"
   ]
  },
  {
   "cell_type": "code",
   "execution_count": 12,
   "metadata": {},
   "outputs": [
    {
     "output_type": "execute_result",
     "data": {
      "text/plain": [
       "          Country         Currency Digraph\n",
       "0          France             Euro      FR\n",
       "1           India     Indian_Rupee      IN\n",
       "2           Nepal   Nepalese_Rupee      NP\n",
       "3          Russia           Rouble      RU\n",
       "4           Spain             Euro      ES\n",
       "5       Sri_Lanka            Rupee      LK\n",
       "6  United_Kingdom            Pound      GB\n",
       "7             USA        US_Dollar      US\n",
       "8      Uzbekistan      Sum_Coupons      UZ\n",
       "9        Zimbabwe  Zimbabwe_Dollar      ZW"
      ],
      "text/html": "<div>\n<style scoped>\n    .dataframe tbody tr th:only-of-type {\n        vertical-align: middle;\n    }\n\n    .dataframe tbody tr th {\n        vertical-align: top;\n    }\n\n    .dataframe thead th {\n        text-align: right;\n    }\n</style>\n<table border=\"1\" class=\"dataframe\">\n  <thead>\n    <tr style=\"text-align: right;\">\n      <th></th>\n      <th>Country</th>\n      <th>Currency</th>\n      <th>Digraph</th>\n    </tr>\n  </thead>\n  <tbody>\n    <tr>\n      <th>0</th>\n      <td>France</td>\n      <td>Euro</td>\n      <td>FR</td>\n    </tr>\n    <tr>\n      <th>1</th>\n      <td>India</td>\n      <td>Indian_Rupee</td>\n      <td>IN</td>\n    </tr>\n    <tr>\n      <th>2</th>\n      <td>Nepal</td>\n      <td>Nepalese_Rupee</td>\n      <td>NP</td>\n    </tr>\n    <tr>\n      <th>3</th>\n      <td>Russia</td>\n      <td>Rouble</td>\n      <td>RU</td>\n    </tr>\n    <tr>\n      <th>4</th>\n      <td>Spain</td>\n      <td>Euro</td>\n      <td>ES</td>\n    </tr>\n    <tr>\n      <th>5</th>\n      <td>Sri_Lanka</td>\n      <td>Rupee</td>\n      <td>LK</td>\n    </tr>\n    <tr>\n      <th>6</th>\n      <td>United_Kingdom</td>\n      <td>Pound</td>\n      <td>GB</td>\n    </tr>\n    <tr>\n      <th>7</th>\n      <td>USA</td>\n      <td>US_Dollar</td>\n      <td>US</td>\n    </tr>\n    <tr>\n      <th>8</th>\n      <td>Uzbekistan</td>\n      <td>Sum_Coupons</td>\n      <td>UZ</td>\n    </tr>\n    <tr>\n      <th>9</th>\n      <td>Zimbabwe</td>\n      <td>Zimbabwe_Dollar</td>\n      <td>ZW</td>\n    </tr>\n  </tbody>\n</table>\n</div>"
     },
     "metadata": {},
     "execution_count": 12
    }
   ],
   "source": [
    "currency"
   ]
  },
  {
   "source": [
    "## Inner Join\n",
    "<img  src=\"https://editor.analyticsvidhya.com/uploads/62641inner_join.png\" height=\"200\" />\n",
    "\n",
    ">The inner Join, as the name suggests is joining the two tables, one on right and the other on left, in such a manner that only the “common” rows appear in the final joined table."
   ],
   "cell_type": "markdown",
   "metadata": {}
  },
  {
   "cell_type": "code",
   "execution_count": 30,
   "metadata": {},
   "outputs": [
    {
     "output_type": "execute_result",
     "data": {
      "text/plain": [
       "  Country ISO    Capital        Currency Digraph\n",
       "0  France  FR      Paris            Euro      FR\n",
       "1   India  IN  New_Delhi    Indian_Rupee      IN\n",
       "2   Nepal  NP   Katmandu  Nepalese_Rupee      NP\n",
       "3  Russia  RU     Moscow          Rouble      RU\n",
       "4   Spain  ES     Madrid            Euro      ES"
      ],
      "text/html": "<div>\n<style scoped>\n    .dataframe tbody tr th:only-of-type {\n        vertical-align: middle;\n    }\n\n    .dataframe tbody tr th {\n        vertical-align: top;\n    }\n\n    .dataframe thead th {\n        text-align: right;\n    }\n</style>\n<table border=\"1\" class=\"dataframe\">\n  <thead>\n    <tr style=\"text-align: right;\">\n      <th></th>\n      <th>Country</th>\n      <th>ISO</th>\n      <th>Capital</th>\n      <th>Currency</th>\n      <th>Digraph</th>\n    </tr>\n  </thead>\n  <tbody>\n    <tr>\n      <th>0</th>\n      <td>France</td>\n      <td>FR</td>\n      <td>Paris</td>\n      <td>Euro</td>\n      <td>FR</td>\n    </tr>\n    <tr>\n      <th>1</th>\n      <td>India</td>\n      <td>IN</td>\n      <td>New_Delhi</td>\n      <td>Indian_Rupee</td>\n      <td>IN</td>\n    </tr>\n    <tr>\n      <th>2</th>\n      <td>Nepal</td>\n      <td>NP</td>\n      <td>Katmandu</td>\n      <td>Nepalese_Rupee</td>\n      <td>NP</td>\n    </tr>\n    <tr>\n      <th>3</th>\n      <td>Russia</td>\n      <td>RU</td>\n      <td>Moscow</td>\n      <td>Rouble</td>\n      <td>RU</td>\n    </tr>\n    <tr>\n      <th>4</th>\n      <td>Spain</td>\n      <td>ES</td>\n      <td>Madrid</td>\n      <td>Euro</td>\n      <td>ES</td>\n    </tr>\n  </tbody>\n</table>\n</div>"
     },
     "metadata": {},
     "execution_count": 30
    }
   ],
   "source": [
    "# Merge can automatically identify common columns within data as in this example\n",
    "pd.merge(left=capitals, right=currency, how='inner')"
   ]
  },
  {
   "cell_type": "code",
   "execution_count": 27,
   "metadata": {},
   "outputs": [
    {
     "output_type": "execute_result",
     "data": {
      "text/plain": [
       "  Country ISO    Capital        Currency Digraph\n",
       "0  France  FR      Paris            Euro      FR\n",
       "1   India  IN  New_Delhi    Indian_Rupee      IN\n",
       "2   Nepal  NP   Katmandu  Nepalese_Rupee      NP\n",
       "3  Russia  RU     Moscow          Rouble      RU\n",
       "4   Spain  ES     Madrid            Euro      ES"
      ],
      "text/html": "<div>\n<style scoped>\n    .dataframe tbody tr th:only-of-type {\n        vertical-align: middle;\n    }\n\n    .dataframe tbody tr th {\n        vertical-align: top;\n    }\n\n    .dataframe thead th {\n        text-align: right;\n    }\n</style>\n<table border=\"1\" class=\"dataframe\">\n  <thead>\n    <tr style=\"text-align: right;\">\n      <th></th>\n      <th>Country</th>\n      <th>ISO</th>\n      <th>Capital</th>\n      <th>Currency</th>\n      <th>Digraph</th>\n    </tr>\n  </thead>\n  <tbody>\n    <tr>\n      <th>0</th>\n      <td>France</td>\n      <td>FR</td>\n      <td>Paris</td>\n      <td>Euro</td>\n      <td>FR</td>\n    </tr>\n    <tr>\n      <th>1</th>\n      <td>India</td>\n      <td>IN</td>\n      <td>New_Delhi</td>\n      <td>Indian_Rupee</td>\n      <td>IN</td>\n    </tr>\n    <tr>\n      <th>2</th>\n      <td>Nepal</td>\n      <td>NP</td>\n      <td>Katmandu</td>\n      <td>Nepalese_Rupee</td>\n      <td>NP</td>\n    </tr>\n    <tr>\n      <th>3</th>\n      <td>Russia</td>\n      <td>RU</td>\n      <td>Moscow</td>\n      <td>Rouble</td>\n      <td>RU</td>\n    </tr>\n    <tr>\n      <th>4</th>\n      <td>Spain</td>\n      <td>ES</td>\n      <td>Madrid</td>\n      <td>Euro</td>\n      <td>ES</td>\n    </tr>\n  </tbody>\n</table>\n</div>"
     },
     "metadata": {},
     "execution_count": 27
    }
   ],
   "source": [
    "# Merge with on defined can also be used and this returns the same as the previous as country was identified automatically as the name was the same in both dataframes\n",
    "pd.merge(left = capitals, right= currency, how='inner', on ='Country')"
   ]
  },
  {
   "cell_type": "code",
   "execution_count": 29,
   "metadata": {},
   "outputs": [
    {
     "output_type": "execute_result",
     "data": {
      "text/plain": [
       "  Country_x ISO    Capital Country_y        Currency Digraph\n",
       "0    France  FR      Paris    France            Euro      FR\n",
       "1     India  IN  New_Delhi     India    Indian_Rupee      IN\n",
       "2     Nepal  NP   Katmandu     Nepal  Nepalese_Rupee      NP\n",
       "3    Russia  RU     Moscow    Russia          Rouble      RU\n",
       "4     Spain  ES     Madrid     Spain            Euro      ES"
      ],
      "text/html": "<div>\n<style scoped>\n    .dataframe tbody tr th:only-of-type {\n        vertical-align: middle;\n    }\n\n    .dataframe tbody tr th {\n        vertical-align: top;\n    }\n\n    .dataframe thead th {\n        text-align: right;\n    }\n</style>\n<table border=\"1\" class=\"dataframe\">\n  <thead>\n    <tr style=\"text-align: right;\">\n      <th></th>\n      <th>Country_x</th>\n      <th>ISO</th>\n      <th>Capital</th>\n      <th>Country_y</th>\n      <th>Currency</th>\n      <th>Digraph</th>\n    </tr>\n  </thead>\n  <tbody>\n    <tr>\n      <th>0</th>\n      <td>France</td>\n      <td>FR</td>\n      <td>Paris</td>\n      <td>France</td>\n      <td>Euro</td>\n      <td>FR</td>\n    </tr>\n    <tr>\n      <th>1</th>\n      <td>India</td>\n      <td>IN</td>\n      <td>New_Delhi</td>\n      <td>India</td>\n      <td>Indian_Rupee</td>\n      <td>IN</td>\n    </tr>\n    <tr>\n      <th>2</th>\n      <td>Nepal</td>\n      <td>NP</td>\n      <td>Katmandu</td>\n      <td>Nepal</td>\n      <td>Nepalese_Rupee</td>\n      <td>NP</td>\n    </tr>\n    <tr>\n      <th>3</th>\n      <td>Russia</td>\n      <td>RU</td>\n      <td>Moscow</td>\n      <td>Russia</td>\n      <td>Rouble</td>\n      <td>RU</td>\n    </tr>\n    <tr>\n      <th>4</th>\n      <td>Spain</td>\n      <td>ES</td>\n      <td>Madrid</td>\n      <td>Spain</td>\n      <td>Euro</td>\n      <td>ES</td>\n    </tr>\n  </tbody>\n</table>\n</div>"
     },
     "metadata": {},
     "execution_count": 29
    }
   ],
   "source": [
    "# Left and Right can both be defined as in the below where two differently named columns have been identified\n",
    "pd.merge(left = capitals,\n",
    "right = currency,\n",
    "how = 'inner',\n",
    "left_on='ISO',\n",
    "right_on='Digraph',\n",
    "suffixes=('_x', '_y'))"
   ]
  },
  {
   "cell_type": "code",
   "execution_count": 32,
   "metadata": {},
   "outputs": [
    {
     "output_type": "execute_result",
     "data": {
      "text/plain": [
       "  Country ISO    Capital        Currency Digraph\n",
       "0  France  FR      Paris            Euro      FR\n",
       "1   India  IN  New_Delhi    Indian_Rupee      IN\n",
       "2   Nepal  NP   Katmandu  Nepalese_Rupee      NP\n",
       "3  Russia  RU     Moscow          Rouble      RU\n",
       "4   Spain  ES     Madrid            Euro      ES"
      ],
      "text/html": "<div>\n<style scoped>\n    .dataframe tbody tr th:only-of-type {\n        vertical-align: middle;\n    }\n\n    .dataframe tbody tr th {\n        vertical-align: top;\n    }\n\n    .dataframe thead th {\n        text-align: right;\n    }\n</style>\n<table border=\"1\" class=\"dataframe\">\n  <thead>\n    <tr style=\"text-align: right;\">\n      <th></th>\n      <th>Country</th>\n      <th>ISO</th>\n      <th>Capital</th>\n      <th>Currency</th>\n      <th>Digraph</th>\n    </tr>\n  </thead>\n  <tbody>\n    <tr>\n      <th>0</th>\n      <td>France</td>\n      <td>FR</td>\n      <td>Paris</td>\n      <td>Euro</td>\n      <td>FR</td>\n    </tr>\n    <tr>\n      <th>1</th>\n      <td>India</td>\n      <td>IN</td>\n      <td>New_Delhi</td>\n      <td>Indian_Rupee</td>\n      <td>IN</td>\n    </tr>\n    <tr>\n      <th>2</th>\n      <td>Nepal</td>\n      <td>NP</td>\n      <td>Katmandu</td>\n      <td>Nepalese_Rupee</td>\n      <td>NP</td>\n    </tr>\n    <tr>\n      <th>3</th>\n      <td>Russia</td>\n      <td>RU</td>\n      <td>Moscow</td>\n      <td>Rouble</td>\n      <td>RU</td>\n    </tr>\n    <tr>\n      <th>4</th>\n      <td>Spain</td>\n      <td>ES</td>\n      <td>Madrid</td>\n      <td>Euro</td>\n      <td>ES</td>\n    </tr>\n  </tbody>\n</table>\n</div>"
     },
     "metadata": {},
     "execution_count": 32
    }
   ],
   "source": [
    "# The above added in a duplication of Coutry with an _ these can be removed with the following regex (see searching data)\n",
    "pd.merge(left = capitals,\n",
    "right = currency,\n",
    "how = 'inner',\n",
    "left_on='ISO',\n",
    "right_on='Digraph',\n",
    "suffixes=('', '_drop')).filter(regex='^(?!.*_drop)')"
   ]
  },
  {
   "source": [
    "## Outer Join\n",
    "<img  src=\"https://editor.analyticsvidhya.com/uploads/16047outer_join.png\" height=\"200\" />\n",
    "\n",
    "> The Outer or Full Join, as the name suggests is joining the two tables, one on right and the other on left, in such a manner that all rows from both the tables appear in the final joined table"
   ],
   "cell_type": "markdown",
   "metadata": {}
  },
  {
   "cell_type": "code",
   "execution_count": 34,
   "metadata": {},
   "outputs": [
    {
     "output_type": "execute_result",
     "data": {
      "text/plain": [
       "           Country  ISO       Capital         Currency Digraph\n",
       "0      Afghanistan   AF         Kabul              NaN     NaN\n",
       "1        Argentina   AR  Buenos_Aires              NaN     NaN\n",
       "2        Australia   AU      Canberra              NaN     NaN\n",
       "3           Canada   CA        Ottawa              NaN     NaN\n",
       "4            China   CN       Beijing              NaN     NaN\n",
       "5           France   FR         Paris             Euro      FR\n",
       "6            India   IN     New_Delhi     Indian_Rupee      IN\n",
       "7            Nepal   NP      Katmandu   Nepalese_Rupee      NP\n",
       "8           Russia   RU        Moscow           Rouble      RU\n",
       "9            Spain   ES        Madrid             Euro      ES\n",
       "10       Sri_Lanka  NaN           NaN            Rupee      LK\n",
       "11  United_Kingdom  NaN           NaN            Pound      GB\n",
       "12             USA  NaN           NaN        US_Dollar      US\n",
       "13      Uzbekistan  NaN           NaN      Sum_Coupons      UZ\n",
       "14        Zimbabwe  NaN           NaN  Zimbabwe_Dollar      ZW"
      ],
      "text/html": "<div>\n<style scoped>\n    .dataframe tbody tr th:only-of-type {\n        vertical-align: middle;\n    }\n\n    .dataframe tbody tr th {\n        vertical-align: top;\n    }\n\n    .dataframe thead th {\n        text-align: right;\n    }\n</style>\n<table border=\"1\" class=\"dataframe\">\n  <thead>\n    <tr style=\"text-align: right;\">\n      <th></th>\n      <th>Country</th>\n      <th>ISO</th>\n      <th>Capital</th>\n      <th>Currency</th>\n      <th>Digraph</th>\n    </tr>\n  </thead>\n  <tbody>\n    <tr>\n      <th>0</th>\n      <td>Afghanistan</td>\n      <td>AF</td>\n      <td>Kabul</td>\n      <td>NaN</td>\n      <td>NaN</td>\n    </tr>\n    <tr>\n      <th>1</th>\n      <td>Argentina</td>\n      <td>AR</td>\n      <td>Buenos_Aires</td>\n      <td>NaN</td>\n      <td>NaN</td>\n    </tr>\n    <tr>\n      <th>2</th>\n      <td>Australia</td>\n      <td>AU</td>\n      <td>Canberra</td>\n      <td>NaN</td>\n      <td>NaN</td>\n    </tr>\n    <tr>\n      <th>3</th>\n      <td>Canada</td>\n      <td>CA</td>\n      <td>Ottawa</td>\n      <td>NaN</td>\n      <td>NaN</td>\n    </tr>\n    <tr>\n      <th>4</th>\n      <td>China</td>\n      <td>CN</td>\n      <td>Beijing</td>\n      <td>NaN</td>\n      <td>NaN</td>\n    </tr>\n    <tr>\n      <th>5</th>\n      <td>France</td>\n      <td>FR</td>\n      <td>Paris</td>\n      <td>Euro</td>\n      <td>FR</td>\n    </tr>\n    <tr>\n      <th>6</th>\n      <td>India</td>\n      <td>IN</td>\n      <td>New_Delhi</td>\n      <td>Indian_Rupee</td>\n      <td>IN</td>\n    </tr>\n    <tr>\n      <th>7</th>\n      <td>Nepal</td>\n      <td>NP</td>\n      <td>Katmandu</td>\n      <td>Nepalese_Rupee</td>\n      <td>NP</td>\n    </tr>\n    <tr>\n      <th>8</th>\n      <td>Russia</td>\n      <td>RU</td>\n      <td>Moscow</td>\n      <td>Rouble</td>\n      <td>RU</td>\n    </tr>\n    <tr>\n      <th>9</th>\n      <td>Spain</td>\n      <td>ES</td>\n      <td>Madrid</td>\n      <td>Euro</td>\n      <td>ES</td>\n    </tr>\n    <tr>\n      <th>10</th>\n      <td>Sri_Lanka</td>\n      <td>NaN</td>\n      <td>NaN</td>\n      <td>Rupee</td>\n      <td>LK</td>\n    </tr>\n    <tr>\n      <th>11</th>\n      <td>United_Kingdom</td>\n      <td>NaN</td>\n      <td>NaN</td>\n      <td>Pound</td>\n      <td>GB</td>\n    </tr>\n    <tr>\n      <th>12</th>\n      <td>USA</td>\n      <td>NaN</td>\n      <td>NaN</td>\n      <td>US_Dollar</td>\n      <td>US</td>\n    </tr>\n    <tr>\n      <th>13</th>\n      <td>Uzbekistan</td>\n      <td>NaN</td>\n      <td>NaN</td>\n      <td>Sum_Coupons</td>\n      <td>UZ</td>\n    </tr>\n    <tr>\n      <th>14</th>\n      <td>Zimbabwe</td>\n      <td>NaN</td>\n      <td>NaN</td>\n      <td>Zimbabwe_Dollar</td>\n      <td>ZW</td>\n    </tr>\n  </tbody>\n</table>\n</div>"
     },
     "metadata": {},
     "execution_count": 34
    }
   ],
   "source": [
    "# Outer Join can be done automatically without identifying linking columns\n",
    "pd.merge(left=capitals, right=currency, how='outer')"
   ]
  },
  {
   "cell_type": "code",
   "execution_count": 3,
   "metadata": {},
   "outputs": [
    {
     "output_type": "execute_result",
     "data": {
      "text/plain": [
       "        Country  ISO       Capital         Currency Digraph\n",
       "0   Afghanistan   AF         Kabul              NaN     NaN\n",
       "1     Argentina   AR  Buenos_Aires              NaN     NaN\n",
       "2     Australia   AU      Canberra              NaN     NaN\n",
       "3        Canada   CA        Ottawa              NaN     NaN\n",
       "4         China   CN       Beijing              NaN     NaN\n",
       "5        France   FR         Paris             Euro      FR\n",
       "6         India   IN     New_Delhi     Indian_Rupee      IN\n",
       "7         Nepal   NP      Katmandu   Nepalese_Rupee      NP\n",
       "8        Russia   RU        Moscow           Rouble      RU\n",
       "9         Spain   ES        Madrid             Euro      ES\n",
       "10          NaN  NaN           NaN            Rupee      LK\n",
       "11          NaN  NaN           NaN            Pound      GB\n",
       "12          NaN  NaN           NaN        US_Dollar      US\n",
       "13          NaN  NaN           NaN      Sum_Coupons      UZ\n",
       "14          NaN  NaN           NaN  Zimbabwe_Dollar      ZW"
      ],
      "text/html": "<div>\n<style scoped>\n    .dataframe tbody tr th:only-of-type {\n        vertical-align: middle;\n    }\n\n    .dataframe tbody tr th {\n        vertical-align: top;\n    }\n\n    .dataframe thead th {\n        text-align: right;\n    }\n</style>\n<table border=\"1\" class=\"dataframe\">\n  <thead>\n    <tr style=\"text-align: right;\">\n      <th></th>\n      <th>Country</th>\n      <th>ISO</th>\n      <th>Capital</th>\n      <th>Currency</th>\n      <th>Digraph</th>\n    </tr>\n  </thead>\n  <tbody>\n    <tr>\n      <th>0</th>\n      <td>Afghanistan</td>\n      <td>AF</td>\n      <td>Kabul</td>\n      <td>NaN</td>\n      <td>NaN</td>\n    </tr>\n    <tr>\n      <th>1</th>\n      <td>Argentina</td>\n      <td>AR</td>\n      <td>Buenos_Aires</td>\n      <td>NaN</td>\n      <td>NaN</td>\n    </tr>\n    <tr>\n      <th>2</th>\n      <td>Australia</td>\n      <td>AU</td>\n      <td>Canberra</td>\n      <td>NaN</td>\n      <td>NaN</td>\n    </tr>\n    <tr>\n      <th>3</th>\n      <td>Canada</td>\n      <td>CA</td>\n      <td>Ottawa</td>\n      <td>NaN</td>\n      <td>NaN</td>\n    </tr>\n    <tr>\n      <th>4</th>\n      <td>China</td>\n      <td>CN</td>\n      <td>Beijing</td>\n      <td>NaN</td>\n      <td>NaN</td>\n    </tr>\n    <tr>\n      <th>5</th>\n      <td>France</td>\n      <td>FR</td>\n      <td>Paris</td>\n      <td>Euro</td>\n      <td>FR</td>\n    </tr>\n    <tr>\n      <th>6</th>\n      <td>India</td>\n      <td>IN</td>\n      <td>New_Delhi</td>\n      <td>Indian_Rupee</td>\n      <td>IN</td>\n    </tr>\n    <tr>\n      <th>7</th>\n      <td>Nepal</td>\n      <td>NP</td>\n      <td>Katmandu</td>\n      <td>Nepalese_Rupee</td>\n      <td>NP</td>\n    </tr>\n    <tr>\n      <th>8</th>\n      <td>Russia</td>\n      <td>RU</td>\n      <td>Moscow</td>\n      <td>Rouble</td>\n      <td>RU</td>\n    </tr>\n    <tr>\n      <th>9</th>\n      <td>Spain</td>\n      <td>ES</td>\n      <td>Madrid</td>\n      <td>Euro</td>\n      <td>ES</td>\n    </tr>\n    <tr>\n      <th>10</th>\n      <td>NaN</td>\n      <td>NaN</td>\n      <td>NaN</td>\n      <td>Rupee</td>\n      <td>LK</td>\n    </tr>\n    <tr>\n      <th>11</th>\n      <td>NaN</td>\n      <td>NaN</td>\n      <td>NaN</td>\n      <td>Pound</td>\n      <td>GB</td>\n    </tr>\n    <tr>\n      <th>12</th>\n      <td>NaN</td>\n      <td>NaN</td>\n      <td>NaN</td>\n      <td>US_Dollar</td>\n      <td>US</td>\n    </tr>\n    <tr>\n      <th>13</th>\n      <td>NaN</td>\n      <td>NaN</td>\n      <td>NaN</td>\n      <td>Sum_Coupons</td>\n      <td>UZ</td>\n    </tr>\n    <tr>\n      <th>14</th>\n      <td>NaN</td>\n      <td>NaN</td>\n      <td>NaN</td>\n      <td>Zimbabwe_Dollar</td>\n      <td>ZW</td>\n    </tr>\n  </tbody>\n</table>\n</div>"
     },
     "metadata": {},
     "execution_count": 3
    }
   ],
   "source": [
    "# Outer join with left and right defined which creates a dupe of country which is removed using regex filter \n",
    "pd.merge(left=capitals,\n",
    "right=currency,\n",
    "how='outer',\n",
    "left_on='ISO',\n",
    "right_on='Digraph',\n",
    "suffixes=('', '_drop')).filter(regex='^(?!.*_drop)')"
   ]
  },
  {
   "source": [
    "## Left Join\n",
    "<img  src=\"https://editor.analyticsvidhya.com/uploads/24996left_join.png\" height=\"200\" />\n",
    "\n",
    "> The Left Join, as the name suggests is joining the two tables, one on right and the other on left, in such a manner that all rows from ONLY the LEFT table and its subsequent common values in the right table appear in the final joined table."
   ],
   "cell_type": "markdown",
   "metadata": {}
  },
  {
   "cell_type": "code",
   "execution_count": 4,
   "metadata": {},
   "outputs": [
    {
     "output_type": "execute_result",
     "data": {
      "text/plain": [
       "       Country ISO       Capital        Currency Digraph\n",
       "0  Afghanistan  AF         Kabul             NaN     NaN\n",
       "1    Argentina  AR  Buenos_Aires             NaN     NaN\n",
       "2    Australia  AU      Canberra             NaN     NaN\n",
       "3       Canada  CA        Ottawa             NaN     NaN\n",
       "4        China  CN       Beijing             NaN     NaN\n",
       "5       France  FR         Paris            Euro      FR\n",
       "6        India  IN     New_Delhi    Indian_Rupee      IN\n",
       "7        Nepal  NP      Katmandu  Nepalese_Rupee      NP\n",
       "8       Russia  RU        Moscow          Rouble      RU\n",
       "9        Spain  ES        Madrid            Euro      ES"
      ],
      "text/html": "<div>\n<style scoped>\n    .dataframe tbody tr th:only-of-type {\n        vertical-align: middle;\n    }\n\n    .dataframe tbody tr th {\n        vertical-align: top;\n    }\n\n    .dataframe thead th {\n        text-align: right;\n    }\n</style>\n<table border=\"1\" class=\"dataframe\">\n  <thead>\n    <tr style=\"text-align: right;\">\n      <th></th>\n      <th>Country</th>\n      <th>ISO</th>\n      <th>Capital</th>\n      <th>Currency</th>\n      <th>Digraph</th>\n    </tr>\n  </thead>\n  <tbody>\n    <tr>\n      <th>0</th>\n      <td>Afghanistan</td>\n      <td>AF</td>\n      <td>Kabul</td>\n      <td>NaN</td>\n      <td>NaN</td>\n    </tr>\n    <tr>\n      <th>1</th>\n      <td>Argentina</td>\n      <td>AR</td>\n      <td>Buenos_Aires</td>\n      <td>NaN</td>\n      <td>NaN</td>\n    </tr>\n    <tr>\n      <th>2</th>\n      <td>Australia</td>\n      <td>AU</td>\n      <td>Canberra</td>\n      <td>NaN</td>\n      <td>NaN</td>\n    </tr>\n    <tr>\n      <th>3</th>\n      <td>Canada</td>\n      <td>CA</td>\n      <td>Ottawa</td>\n      <td>NaN</td>\n      <td>NaN</td>\n    </tr>\n    <tr>\n      <th>4</th>\n      <td>China</td>\n      <td>CN</td>\n      <td>Beijing</td>\n      <td>NaN</td>\n      <td>NaN</td>\n    </tr>\n    <tr>\n      <th>5</th>\n      <td>France</td>\n      <td>FR</td>\n      <td>Paris</td>\n      <td>Euro</td>\n      <td>FR</td>\n    </tr>\n    <tr>\n      <th>6</th>\n      <td>India</td>\n      <td>IN</td>\n      <td>New_Delhi</td>\n      <td>Indian_Rupee</td>\n      <td>IN</td>\n    </tr>\n    <tr>\n      <th>7</th>\n      <td>Nepal</td>\n      <td>NP</td>\n      <td>Katmandu</td>\n      <td>Nepalese_Rupee</td>\n      <td>NP</td>\n    </tr>\n    <tr>\n      <th>8</th>\n      <td>Russia</td>\n      <td>RU</td>\n      <td>Moscow</td>\n      <td>Rouble</td>\n      <td>RU</td>\n    </tr>\n    <tr>\n      <th>9</th>\n      <td>Spain</td>\n      <td>ES</td>\n      <td>Madrid</td>\n      <td>Euro</td>\n      <td>ES</td>\n    </tr>\n  </tbody>\n</table>\n</div>"
     },
     "metadata": {},
     "execution_count": 4
    }
   ],
   "source": [
    "# Left join with auto match colum\n",
    "\n",
    "pd.merge(left=capitals, right=currency, how='left')"
   ]
  },
  {
   "cell_type": "code",
   "execution_count": 5,
   "metadata": {},
   "outputs": [
    {
     "output_type": "execute_result",
     "data": {
      "text/plain": [
       "       Country ISO       Capital        Currency Digraph\n",
       "0  Afghanistan  AF         Kabul             NaN     NaN\n",
       "1    Argentina  AR  Buenos_Aires             NaN     NaN\n",
       "2    Australia  AU      Canberra             NaN     NaN\n",
       "3       Canada  CA        Ottawa             NaN     NaN\n",
       "4        China  CN       Beijing             NaN     NaN\n",
       "5       France  FR         Paris            Euro      FR\n",
       "6        India  IN     New_Delhi    Indian_Rupee      IN\n",
       "7        Nepal  NP      Katmandu  Nepalese_Rupee      NP\n",
       "8       Russia  RU        Moscow          Rouble      RU\n",
       "9        Spain  ES        Madrid            Euro      ES"
      ],
      "text/html": "<div>\n<style scoped>\n    .dataframe tbody tr th:only-of-type {\n        vertical-align: middle;\n    }\n\n    .dataframe tbody tr th {\n        vertical-align: top;\n    }\n\n    .dataframe thead th {\n        text-align: right;\n    }\n</style>\n<table border=\"1\" class=\"dataframe\">\n  <thead>\n    <tr style=\"text-align: right;\">\n      <th></th>\n      <th>Country</th>\n      <th>ISO</th>\n      <th>Capital</th>\n      <th>Currency</th>\n      <th>Digraph</th>\n    </tr>\n  </thead>\n  <tbody>\n    <tr>\n      <th>0</th>\n      <td>Afghanistan</td>\n      <td>AF</td>\n      <td>Kabul</td>\n      <td>NaN</td>\n      <td>NaN</td>\n    </tr>\n    <tr>\n      <th>1</th>\n      <td>Argentina</td>\n      <td>AR</td>\n      <td>Buenos_Aires</td>\n      <td>NaN</td>\n      <td>NaN</td>\n    </tr>\n    <tr>\n      <th>2</th>\n      <td>Australia</td>\n      <td>AU</td>\n      <td>Canberra</td>\n      <td>NaN</td>\n      <td>NaN</td>\n    </tr>\n    <tr>\n      <th>3</th>\n      <td>Canada</td>\n      <td>CA</td>\n      <td>Ottawa</td>\n      <td>NaN</td>\n      <td>NaN</td>\n    </tr>\n    <tr>\n      <th>4</th>\n      <td>China</td>\n      <td>CN</td>\n      <td>Beijing</td>\n      <td>NaN</td>\n      <td>NaN</td>\n    </tr>\n    <tr>\n      <th>5</th>\n      <td>France</td>\n      <td>FR</td>\n      <td>Paris</td>\n      <td>Euro</td>\n      <td>FR</td>\n    </tr>\n    <tr>\n      <th>6</th>\n      <td>India</td>\n      <td>IN</td>\n      <td>New_Delhi</td>\n      <td>Indian_Rupee</td>\n      <td>IN</td>\n    </tr>\n    <tr>\n      <th>7</th>\n      <td>Nepal</td>\n      <td>NP</td>\n      <td>Katmandu</td>\n      <td>Nepalese_Rupee</td>\n      <td>NP</td>\n    </tr>\n    <tr>\n      <th>8</th>\n      <td>Russia</td>\n      <td>RU</td>\n      <td>Moscow</td>\n      <td>Rouble</td>\n      <td>RU</td>\n    </tr>\n    <tr>\n      <th>9</th>\n      <td>Spain</td>\n      <td>ES</td>\n      <td>Madrid</td>\n      <td>Euro</td>\n      <td>ES</td>\n    </tr>\n  </tbody>\n</table>\n</div>"
     },
     "metadata": {},
     "execution_count": 5
    }
   ],
   "source": [
    "# Left join with left and right defined which creates a dupe of country which is removed using regex filter \n",
    "pd.merge(left=capitals,\n",
    "right=currency,\n",
    "how='left',\n",
    "left_on='ISO',\n",
    "right_on='Digraph',\n",
    "suffixes=('', '_drop')).filter(regex='^(?!.*_drop)')"
   ]
  },
  {
   "source": [
    "## Right Join\n",
    "<img  src=\"https://editor.analyticsvidhya.com/uploads/15523right_join.png\" height=\"200\" />\n",
    "\n",
    "> The Right Join, as the name suggests is joining the two tables, one on right and the other on left, in such a manner that all rows from ONLY the RIGHT table and its subsequent common values in the left table appear in the final joined table."
   ],
   "cell_type": "markdown",
   "metadata": {}
  },
  {
   "cell_type": "code",
   "execution_count": 6,
   "metadata": {},
   "outputs": [
    {
     "output_type": "execute_result",
     "data": {
      "text/plain": [
       "          Country  ISO    Capital         Currency Digraph\n",
       "0          France   FR      Paris             Euro      FR\n",
       "1           India   IN  New_Delhi     Indian_Rupee      IN\n",
       "2           Nepal   NP   Katmandu   Nepalese_Rupee      NP\n",
       "3          Russia   RU     Moscow           Rouble      RU\n",
       "4           Spain   ES     Madrid             Euro      ES\n",
       "5       Sri_Lanka  NaN        NaN            Rupee      LK\n",
       "6  United_Kingdom  NaN        NaN            Pound      GB\n",
       "7             USA  NaN        NaN        US_Dollar      US\n",
       "8      Uzbekistan  NaN        NaN      Sum_Coupons      UZ\n",
       "9        Zimbabwe  NaN        NaN  Zimbabwe_Dollar      ZW"
      ],
      "text/html": "<div>\n<style scoped>\n    .dataframe tbody tr th:only-of-type {\n        vertical-align: middle;\n    }\n\n    .dataframe tbody tr th {\n        vertical-align: top;\n    }\n\n    .dataframe thead th {\n        text-align: right;\n    }\n</style>\n<table border=\"1\" class=\"dataframe\">\n  <thead>\n    <tr style=\"text-align: right;\">\n      <th></th>\n      <th>Country</th>\n      <th>ISO</th>\n      <th>Capital</th>\n      <th>Currency</th>\n      <th>Digraph</th>\n    </tr>\n  </thead>\n  <tbody>\n    <tr>\n      <th>0</th>\n      <td>France</td>\n      <td>FR</td>\n      <td>Paris</td>\n      <td>Euro</td>\n      <td>FR</td>\n    </tr>\n    <tr>\n      <th>1</th>\n      <td>India</td>\n      <td>IN</td>\n      <td>New_Delhi</td>\n      <td>Indian_Rupee</td>\n      <td>IN</td>\n    </tr>\n    <tr>\n      <th>2</th>\n      <td>Nepal</td>\n      <td>NP</td>\n      <td>Katmandu</td>\n      <td>Nepalese_Rupee</td>\n      <td>NP</td>\n    </tr>\n    <tr>\n      <th>3</th>\n      <td>Russia</td>\n      <td>RU</td>\n      <td>Moscow</td>\n      <td>Rouble</td>\n      <td>RU</td>\n    </tr>\n    <tr>\n      <th>4</th>\n      <td>Spain</td>\n      <td>ES</td>\n      <td>Madrid</td>\n      <td>Euro</td>\n      <td>ES</td>\n    </tr>\n    <tr>\n      <th>5</th>\n      <td>Sri_Lanka</td>\n      <td>NaN</td>\n      <td>NaN</td>\n      <td>Rupee</td>\n      <td>LK</td>\n    </tr>\n    <tr>\n      <th>6</th>\n      <td>United_Kingdom</td>\n      <td>NaN</td>\n      <td>NaN</td>\n      <td>Pound</td>\n      <td>GB</td>\n    </tr>\n    <tr>\n      <th>7</th>\n      <td>USA</td>\n      <td>NaN</td>\n      <td>NaN</td>\n      <td>US_Dollar</td>\n      <td>US</td>\n    </tr>\n    <tr>\n      <th>8</th>\n      <td>Uzbekistan</td>\n      <td>NaN</td>\n      <td>NaN</td>\n      <td>Sum_Coupons</td>\n      <td>UZ</td>\n    </tr>\n    <tr>\n      <th>9</th>\n      <td>Zimbabwe</td>\n      <td>NaN</td>\n      <td>NaN</td>\n      <td>Zimbabwe_Dollar</td>\n      <td>ZW</td>\n    </tr>\n  </tbody>\n</table>\n</div>"
     },
     "metadata": {},
     "execution_count": 6
    }
   ],
   "source": [
    "# Right join with auto match colum\n",
    "\n",
    "pd.merge(left=capitals, right=currency, how='right')"
   ]
  },
  {
   "cell_type": "code",
   "execution_count": 7,
   "metadata": {},
   "outputs": [
    {
     "output_type": "execute_result",
     "data": {
      "text/plain": [
       "       Country ISO       Capital        Currency Digraph\n",
       "0  Afghanistan  AF         Kabul             NaN     NaN\n",
       "1    Argentina  AR  Buenos_Aires             NaN     NaN\n",
       "2    Australia  AU      Canberra             NaN     NaN\n",
       "3       Canada  CA        Ottawa             NaN     NaN\n",
       "4        China  CN       Beijing             NaN     NaN\n",
       "5       France  FR         Paris            Euro      FR\n",
       "6        India  IN     New_Delhi    Indian_Rupee      IN\n",
       "7        Nepal  NP      Katmandu  Nepalese_Rupee      NP\n",
       "8       Russia  RU        Moscow          Rouble      RU\n",
       "9        Spain  ES        Madrid            Euro      ES"
      ],
      "text/html": "<div>\n<style scoped>\n    .dataframe tbody tr th:only-of-type {\n        vertical-align: middle;\n    }\n\n    .dataframe tbody tr th {\n        vertical-align: top;\n    }\n\n    .dataframe thead th {\n        text-align: right;\n    }\n</style>\n<table border=\"1\" class=\"dataframe\">\n  <thead>\n    <tr style=\"text-align: right;\">\n      <th></th>\n      <th>Country</th>\n      <th>ISO</th>\n      <th>Capital</th>\n      <th>Currency</th>\n      <th>Digraph</th>\n    </tr>\n  </thead>\n  <tbody>\n    <tr>\n      <th>0</th>\n      <td>Afghanistan</td>\n      <td>AF</td>\n      <td>Kabul</td>\n      <td>NaN</td>\n      <td>NaN</td>\n    </tr>\n    <tr>\n      <th>1</th>\n      <td>Argentina</td>\n      <td>AR</td>\n      <td>Buenos_Aires</td>\n      <td>NaN</td>\n      <td>NaN</td>\n    </tr>\n    <tr>\n      <th>2</th>\n      <td>Australia</td>\n      <td>AU</td>\n      <td>Canberra</td>\n      <td>NaN</td>\n      <td>NaN</td>\n    </tr>\n    <tr>\n      <th>3</th>\n      <td>Canada</td>\n      <td>CA</td>\n      <td>Ottawa</td>\n      <td>NaN</td>\n      <td>NaN</td>\n    </tr>\n    <tr>\n      <th>4</th>\n      <td>China</td>\n      <td>CN</td>\n      <td>Beijing</td>\n      <td>NaN</td>\n      <td>NaN</td>\n    </tr>\n    <tr>\n      <th>5</th>\n      <td>France</td>\n      <td>FR</td>\n      <td>Paris</td>\n      <td>Euro</td>\n      <td>FR</td>\n    </tr>\n    <tr>\n      <th>6</th>\n      <td>India</td>\n      <td>IN</td>\n      <td>New_Delhi</td>\n      <td>Indian_Rupee</td>\n      <td>IN</td>\n    </tr>\n    <tr>\n      <th>7</th>\n      <td>Nepal</td>\n      <td>NP</td>\n      <td>Katmandu</td>\n      <td>Nepalese_Rupee</td>\n      <td>NP</td>\n    </tr>\n    <tr>\n      <th>8</th>\n      <td>Russia</td>\n      <td>RU</td>\n      <td>Moscow</td>\n      <td>Rouble</td>\n      <td>RU</td>\n    </tr>\n    <tr>\n      <th>9</th>\n      <td>Spain</td>\n      <td>ES</td>\n      <td>Madrid</td>\n      <td>Euro</td>\n      <td>ES</td>\n    </tr>\n  </tbody>\n</table>\n</div>"
     },
     "metadata": {},
     "execution_count": 7
    }
   ],
   "source": [
    "# Right join with left and right defined which creates a dupe of country which is removed using regex filter \n",
    "pd.merge(left=capitals,\n",
    "right=currency,\n",
    "how='left',\n",
    "left_on='ISO',\n",
    "right_on='Digraph',\n",
    "suffixes=('', '_drop')).filter(regex='^(?!.*_drop)')"
   ]
  }
 ],
 "metadata": {
  "kernelspec": {
   "name": "python3",
   "display_name": "Python 3.8.5 64-bit ('base': conda)"
  },
  "language_info": {
   "codemirror_mode": {
    "name": "ipython",
    "version": 3
   },
   "file_extension": ".py",
   "mimetype": "text/x-python",
   "name": "python",
   "nbconvert_exporter": "python",
   "pygments_lexer": "ipython3",
   "version": "3.8.5"
  },
  "interpreter": {
   "hash": "48cc7c787c9e7337c2fc1738d63fa3d86a77ffde0048b7ccfde354c54d52995c"
  }
 },
 "nbformat": 4,
 "nbformat_minor": 2
}